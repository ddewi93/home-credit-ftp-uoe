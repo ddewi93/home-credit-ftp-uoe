{
 "cells": [
  {
   "cell_type": "code",
   "execution_count": 2,
   "id": "26a8e400",
   "metadata": {},
   "outputs": [],
   "source": [
    "#Libraries\n",
    "import pandas as pd\n",
    "import numpy as np\n",
    "import matplotlib.pyplot as plt"
   ]
  },
  {
   "cell_type": "code",
   "execution_count": 6,
   "id": "3ccd6947",
   "metadata": {},
   "outputs": [
    {
     "name": "stdout",
     "output_type": "stream",
     "text": [
      "         SK_ID_PREV    SK_ID_CURR  MONTHS_BALANCE   AMT_BALANCE  \\\n",
      "count  3.840312e+06  3.840312e+06    3.840312e+06  3.840312e+06   \n",
      "mean   1.904504e+06  2.783242e+05   -3.452192e+01  5.830016e+04   \n",
      "std    5.364695e+05  1.027045e+05    2.666775e+01  1.063070e+05   \n",
      "min    1.000018e+06  1.000060e+05   -9.600000e+01 -4.202502e+05   \n",
      "25%    1.434385e+06  1.895170e+05   -5.500000e+01  0.000000e+00   \n",
      "50%    1.897122e+06  2.783960e+05   -2.800000e+01  0.000000e+00   \n",
      "75%    2.369328e+06  3.675800e+05   -1.100000e+01  8.904669e+04   \n",
      "max    2.843496e+06  4.562500e+05   -1.000000e+00  1.505902e+06   \n",
      "\n",
      "       AMT_CREDIT_LIMIT_ACTUAL  AMT_DRAWINGS_ATM_CURRENT  \\\n",
      "count             3.840312e+06              3.090496e+06   \n",
      "mean              1.538080e+05              5.961325e+03   \n",
      "std               1.651457e+05              2.822569e+04   \n",
      "min               0.000000e+00             -6.827310e+03   \n",
      "25%               4.500000e+04              0.000000e+00   \n",
      "50%               1.125000e+05              0.000000e+00   \n",
      "75%               1.800000e+05              0.000000e+00   \n",
      "max               1.350000e+06              2.115000e+06   \n",
      "\n",
      "       AMT_DRAWINGS_CURRENT  AMT_DRAWINGS_OTHER_CURRENT  \\\n",
      "count          3.840312e+06                3.090496e+06   \n",
      "mean           7.433388e+03                2.881696e+02   \n",
      "std            3.384608e+04                8.201989e+03   \n",
      "min           -6.211620e+03                0.000000e+00   \n",
      "25%            0.000000e+00                0.000000e+00   \n",
      "50%            0.000000e+00                0.000000e+00   \n",
      "75%            0.000000e+00                0.000000e+00   \n",
      "max            2.287098e+06                1.529847e+06   \n",
      "\n",
      "       AMT_DRAWINGS_POS_CURRENT  AMT_INST_MIN_REGULARITY  ...  \\\n",
      "count              3.090496e+06             3.535076e+06  ...   \n",
      "mean               2.968805e+03             3.540204e+03  ...   \n",
      "std                2.079689e+04             5.600154e+03  ...   \n",
      "min                0.000000e+00             0.000000e+00  ...   \n",
      "25%                0.000000e+00             0.000000e+00  ...   \n",
      "50%                0.000000e+00             0.000000e+00  ...   \n",
      "75%                0.000000e+00             6.633911e+03  ...   \n",
      "max                2.239274e+06             2.028820e+05  ...   \n",
      "\n",
      "       AMT_RECEIVABLE_PRINCIPAL  AMT_RECIVABLE  AMT_TOTAL_RECEIVABLE  \\\n",
      "count              3.840312e+06   3.840312e+06          3.840312e+06   \n",
      "mean               5.596588e+04   5.808881e+04          5.809829e+04   \n",
      "std                1.025336e+05   1.059654e+05          1.059718e+05   \n",
      "min               -4.233058e+05  -4.202502e+05         -4.202502e+05   \n",
      "25%                0.000000e+00   0.000000e+00          0.000000e+00   \n",
      "50%                0.000000e+00   0.000000e+00          0.000000e+00   \n",
      "75%                8.535924e+04   8.889949e+04          8.891451e+04   \n",
      "max                1.472317e+06   1.493338e+06          1.493338e+06   \n",
      "\n",
      "       CNT_DRAWINGS_ATM_CURRENT  CNT_DRAWINGS_CURRENT  \\\n",
      "count              3.090496e+06          3.840312e+06   \n",
      "mean               3.094490e-01          7.031439e-01   \n",
      "std                1.100401e+00          3.190347e+00   \n",
      "min                0.000000e+00          0.000000e+00   \n",
      "25%                0.000000e+00          0.000000e+00   \n",
      "50%                0.000000e+00          0.000000e+00   \n",
      "75%                0.000000e+00          0.000000e+00   \n",
      "max                5.100000e+01          1.650000e+02   \n",
      "\n",
      "       CNT_DRAWINGS_OTHER_CURRENT  CNT_DRAWINGS_POS_CURRENT  \\\n",
      "count                3.090496e+06              3.090496e+06   \n",
      "mean                 4.812496e-03              5.594791e-01   \n",
      "std                  8.263861e-02              3.240649e+00   \n",
      "min                  0.000000e+00              0.000000e+00   \n",
      "25%                  0.000000e+00              0.000000e+00   \n",
      "50%                  0.000000e+00              0.000000e+00   \n",
      "75%                  0.000000e+00              0.000000e+00   \n",
      "max                  1.200000e+01              1.650000e+02   \n",
      "\n",
      "       CNT_INSTALMENT_MATURE_CUM        SK_DPD    SK_DPD_DEF  \n",
      "count               3.535076e+06  3.840312e+06  3.840312e+06  \n",
      "mean                2.082508e+01  9.283667e+00  3.316220e-01  \n",
      "std                 2.005149e+01  9.751570e+01  2.147923e+01  \n",
      "min                 0.000000e+00  0.000000e+00  0.000000e+00  \n",
      "25%                 4.000000e+00  0.000000e+00  0.000000e+00  \n",
      "50%                 1.500000e+01  0.000000e+00  0.000000e+00  \n",
      "75%                 3.200000e+01  0.000000e+00  0.000000e+00  \n",
      "max                 1.200000e+02  3.260000e+03  3.260000e+03  \n",
      "\n",
      "[8 rows x 22 columns]\n"
     ]
    }
   ],
   "source": [
    "credit_card_balance = pd.read_csv(\"../1-data/credit_card_balance.csv\")\n",
    "print(credit_card_balance.describe())"
   ]
  },
  {
   "cell_type": "code",
   "execution_count": null,
   "id": "c758c9b8",
   "metadata": {},
   "outputs": [],
   "source": []
  }
 ],
 "metadata": {
  "kernelspec": {
   "display_name": "Python 3 (ipykernel)",
   "language": "python",
   "name": "python3"
  },
  "language_info": {
   "codemirror_mode": {
    "name": "ipython",
    "version": 3
   },
   "file_extension": ".py",
   "mimetype": "text/x-python",
   "name": "python",
   "nbconvert_exporter": "python",
   "pygments_lexer": "ipython3",
   "version": "3.9.12"
  }
 },
 "nbformat": 4,
 "nbformat_minor": 5
}
