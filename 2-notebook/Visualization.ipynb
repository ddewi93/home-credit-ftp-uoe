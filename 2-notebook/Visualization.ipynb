{
 "cells": [
  {
   "cell_type": "code",
   "execution_count": 1,
   "id": "26a8e400",
   "metadata": {},
   "outputs": [],
   "source": [
    "#Libraries\n",
    "import pandas as pd\n",
    "import numpy as np\n",
    "import matplotlib.pyplot as plt"
   ]
  },
  {
   "cell_type": "code",
   "execution_count": 4,
   "id": "3ccd6947",
   "metadata": {},
   "outputs": [
    {
     "name": "stdout",
     "output_type": "stream",
     "text": [
      "   SK_ID_PREV  SK_ID_CURR  MONTHS_BALANCE  AMT_BALANCE  \\\n",
      "0     2562384      378907              -6       56.970   \n",
      "1     2582071      363914              -1    63975.555   \n",
      "2     1740877      371185              -7    31815.225   \n",
      "3     1389973      337855              -4   236572.110   \n",
      "4     1891521      126868              -1   453919.455   \n",
      "\n",
      "   AMT_CREDIT_LIMIT_ACTUAL  AMT_DRAWINGS_ATM_CURRENT  AMT_DRAWINGS_CURRENT  \\\n",
      "0                   135000                       0.0                 877.5   \n",
      "1                    45000                    2250.0                2250.0   \n",
      "2                   450000                       0.0                   0.0   \n",
      "3                   225000                    2250.0                2250.0   \n",
      "4                   450000                       0.0               11547.0   \n",
      "\n",
      "   AMT_DRAWINGS_OTHER_CURRENT  AMT_DRAWINGS_POS_CURRENT  \\\n",
      "0                         0.0                     877.5   \n",
      "1                         0.0                       0.0   \n",
      "2                         0.0                       0.0   \n",
      "3                         0.0                       0.0   \n",
      "4                         0.0                   11547.0   \n",
      "\n",
      "   AMT_INST_MIN_REGULARITY  ...  AMT_RECIVABLE  AMT_TOTAL_RECEIVABLE  \\\n",
      "0                 1700.325  ...          0.000                 0.000   \n",
      "1                 2250.000  ...      64875.555             64875.555   \n",
      "2                 2250.000  ...      31460.085             31460.085   \n",
      "3                11795.760  ...     233048.970            233048.970   \n",
      "4                22924.890  ...     453919.455            453919.455   \n",
      "\n",
      "   CNT_DRAWINGS_ATM_CURRENT  CNT_DRAWINGS_CURRENT  CNT_DRAWINGS_OTHER_CURRENT  \\\n",
      "0                       0.0                     1                         0.0   \n",
      "1                       1.0                     1                         0.0   \n",
      "2                       0.0                     0                         0.0   \n",
      "3                       1.0                     1                         0.0   \n",
      "4                       0.0                     1                         0.0   \n",
      "\n",
      "   CNT_DRAWINGS_POS_CURRENT  CNT_INSTALMENT_MATURE_CUM  NAME_CONTRACT_STATUS  \\\n",
      "0                       1.0                       35.0                Active   \n",
      "1                       0.0                       69.0                Active   \n",
      "2                       0.0                       30.0                Active   \n",
      "3                       0.0                       10.0                Active   \n",
      "4                       1.0                      101.0                Active   \n",
      "\n",
      "   SK_DPD  SK_DPD_DEF  \n",
      "0       0           0  \n",
      "1       0           0  \n",
      "2       0           0  \n",
      "3       0           0  \n",
      "4       0           0  \n",
      "\n",
      "[5 rows x 23 columns]\n"
     ]
    }
   ],
   "source": [
    "credit_card_balance = pd.read_csv(\"dataset/credit_card_balance.csv\")\n",
    "print(credit_card_balance.head())"
   ]
  },
  {
   "cell_type": "code",
   "execution_count": null,
   "id": "c758c9b8",
   "metadata": {},
   "outputs": [],
   "source": []
  }
 ],
 "metadata": {
  "kernelspec": {
   "display_name": "Python 3 (ipykernel)",
   "language": "python",
   "name": "python3"
  },
  "language_info": {
   "codemirror_mode": {
    "name": "ipython",
    "version": 3
   },
   "file_extension": ".py",
   "mimetype": "text/x-python",
   "name": "python",
   "nbconvert_exporter": "python",
   "pygments_lexer": "ipython3",
   "version": "3.9.12"
  }
 },
 "nbformat": 4,
 "nbformat_minor": 5
}
